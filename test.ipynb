{
 "cells": [
  {
   "cell_type": "code",
   "execution_count": null,
   "metadata": {},
   "outputs": [],
   "source": [
    "case = 5\n",
    "mid = case // 2 if case%2==0 else (case+1)//2\n",
    "print(mid, end='')\n",
    "print(5)"
   ]
  },
  {
   "cell_type": "code",
   "execution_count": 9,
   "metadata": {},
   "outputs": [
    {
     "name": "stdout",
     "output_type": "stream",
     "text": [
      "O O O O O O O O O O O O O O O \n",
      "O J J J J J J J J J J J J J O \n",
      "O J a a a a a a a a a a a J O \n",
      "O J a b b b b b b b b b a J O \n",
      "O J a b c c c c c c c b a J O \n",
      "O J a b c d d d d d c b a J O \n",
      "O J a b c d e e e d c b a J O \n",
      "O J a b c d e f e d c b a J O \n",
      "O J a b c d e e e d c b a J O \n",
      "O J a b c d d d d d c b a J O \n",
      "O J a b c c c c c c c b a J O \n",
      "O J a b b b b b b b b b a J O \n",
      "O J a a a a a a a a a a a J O \n",
      "O J J J J J J J J J J J J J O \n",
      "O O O O O O O O O O O O O O O \n",
      "O O O O O \n",
      "O J J J O \n",
      "O J a J O \n",
      "O J J J O \n",
      "O O O O O \n"
     ]
    }
   ],
   "source": [
    "case_num = int(input())\n",
    "cases = [int(input()) for c in range(case_num)]\n",
    "for case in cases:\n",
    "    mid = case // 2 if case%2==0 else (case-1)//2\n",
    "    offset = 0 if case%2==0 else 1\n",
    "    for row in range(case):\n",
    "        for col in range(case):\n",
    "            if row == 0 or col == 0 or row == case-1 or col == case-1:\n",
    "                print('O ', end='')\n",
    "            elif row == 1 or col == 1 or row == case-2 or col == case-2 :\n",
    "                print('J ', end='')\n",
    "            else:\n",
    "                num = min(row, col, case-row-1, case-col-1)\n",
    "                print(f'{chr(95+num)} ', end='')\t\n",
    "        print('')"
   ]
  },
  {
   "cell_type": "code",
   "execution_count": 15,
   "metadata": {},
   "outputs": [
    {
     "name": "stdout",
     "output_type": "stream",
     "text": [
      "-1\n",
      "535 535 538\n"
     ]
    }
   ],
   "source": [
    "case_num = int(input())\n",
    "cases = [int(input()) for c in range(case_num)]\n",
    "for case in cases:\n",
    "    if case == 0:\n",
    "        print(\"0 0 0\")\n",
    "    elif case == 1 or case == 2 or case == 5:\n",
    "        print(\"-1\")\n",
    "    else:\n",
    "        a = b = c = case // 14\n",
    "        d = case % 14\n",
    "        if d == 1:\n",
    "            a -= 1\n",
    "            b -= 1\n",
    "            c += 4\n",
    "        elif d == 2:\n",
    "            a -= 1\n",
    "            c += 3\n",
    "        elif d == 3:\n",
    "            c += 1\n",
    "        elif d == 4:\n",
    "            b += 1\n",
    "        elif d == 5: # ?\n",
    "            a -= 1\n",
    "            c += 4\n",
    "        elif d == 6:\n",
    "            c += 2\n",
    "        elif d == 7:\n",
    "            b += 1\n",
    "            c += 1\n",
    "        elif d == 8:\n",
    "            b += 2\n",
    "        elif d == 9:\n",
    "            c += 3\n",
    "        elif d == 10:\n",
    "            b += 1\n",
    "            c += 2\n",
    "        elif d == 11:\n",
    "            b += 2\n",
    "            c += 1\n",
    "        elif d == 12:\n",
    "            c += 4\n",
    "        elif d == 13:\n",
    "            b += 1\n",
    "            c += 3\n",
    "        print(f\"{a} {b} {c}\")\n"
   ]
  }
 ],
 "metadata": {
  "kernelspec": {
   "display_name": "Python 3.9.7 ('base')",
   "language": "python",
   "name": "python3"
  },
  "language_info": {
   "codemirror_mode": {
    "name": "ipython",
    "version": 3
   },
   "file_extension": ".py",
   "mimetype": "text/x-python",
   "name": "python",
   "nbconvert_exporter": "python",
   "pygments_lexer": "ipython3",
   "version": "3.9.7"
  },
  "orig_nbformat": 4,
  "vscode": {
   "interpreter": {
    "hash": "88279d2366fe020547cde40dd65aa0e3aa662a6ec1f3ca12d88834876c85e1a6"
   }
  }
 },
 "nbformat": 4,
 "nbformat_minor": 2
}
